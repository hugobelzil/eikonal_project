{
 "cells": [
  {
   "metadata": {},
   "cell_type": "markdown",
   "source": [
    "# Convergence analysis\n",
    "Below is an implementation to investigate the convergence of the 2D signed distance function Eikonal solver, implemented in `eikonal_distance_2D.py`. The plots are graphed using `matplotlib`, and the library `scienceplots` is required in order to plot them (changes the style)"
   ],
   "id": "d4a7c491fbd55a93"
  },
  {
   "metadata": {
    "collapsed": true,
    "jupyter": {
     "is_executing": true
    }
   },
   "cell_type": "code",
   "source": [
    "import numpy as np\n",
    "import matplotlib.pyplot as plt\n",
    "from eikonal_distance_2D import EikonalSolver\n",
    "from computational_domain import ComputationalDomain\n",
    "import scienceplots\n",
    "\n",
    "# Activate SciencePlots style\n",
    "plt.style.use(['science', 'grid'])\n",
    "\n",
    "errors = []\n",
    "epsilon = 1e-4\n",
    "\n",
    "for N in [(20*i+1) for i in range(1, 19)]:\n",
    "    print(\"Running convergence analysis. N = \", N)\n",
    "    unit_square = ComputationalDomain(N = N, a = -1, b = 1, c = -1, d = 1)\n",
    "    unit_square.Gamma([(int((N-1)/2), int((N-1)/2))])\n",
    "\n",
    "    solver = EikonalSolver(unit_square)\n",
    "    solver.SweepUntilConvergence(epsilon = epsilon)\n",
    "    numerical_solution = solver.grids_after_sweeps[-1]\n",
    "\n",
    "    x = np.linspace(-1, 1, N)\n",
    "    y = np.linspace(-1, 1, N)\n",
    "    X, Y = np.meshgrid(x, y)\n",
    "    true_distance = np.sqrt(X**2 + Y**2)\n",
    "\n",
    "    max_error = np.max(np.abs(true_distance - numerical_solution))\n",
    "    errors.append(max_error)\n",
    "    print(\"N = \", N, \" max error : \", max_error)\n",
    "\n",
    "\n",
    "\n",
    "plt.figure(figsize=(6.5, 4))\n",
    "plt.plot([(25*i +1) for i in range(1,19)], errors,  marker='x', label=r'$L^\\infty$ Error')\n",
    "plt.xlabel(\"Grid size (N)\")\n",
    "plt.ylabel(\"Max Error\")\n",
    "plt.yscale(\"log\")\n",
    "plt.title(r'Convergence of Eikonal Solver for distance function on $[0,1]^2$')\n",
    "plt.legend()\n",
    "plt.tight_layout()\n",
    "plt.show(block=True)  # Keep the window open\n",
    "\n"
   ],
   "id": "initial_id",
   "outputs": [],
   "execution_count": null
  },
  {
   "metadata": {},
   "cell_type": "code",
   "outputs": [],
   "execution_count": null,
   "source": "",
   "id": "fc787698abdd791b"
  }
 ],
 "metadata": {
  "kernelspec": {
   "display_name": "Python 3",
   "language": "python",
   "name": "python3"
  },
  "language_info": {
   "codemirror_mode": {
    "name": "ipython",
    "version": 2
   },
   "file_extension": ".py",
   "mimetype": "text/x-python",
   "name": "python",
   "nbconvert_exporter": "python",
   "pygments_lexer": "ipython2",
   "version": "2.7.6"
  }
 },
 "nbformat": 4,
 "nbformat_minor": 5
}
